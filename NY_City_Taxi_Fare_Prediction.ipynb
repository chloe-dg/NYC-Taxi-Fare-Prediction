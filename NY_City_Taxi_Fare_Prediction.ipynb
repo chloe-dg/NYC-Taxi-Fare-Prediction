{
  "nbformat": 4,
  "nbformat_minor": 0,
  "metadata": {
    "colab": {
      "name": "NY City Taxi Fare Prediction.ipynb",
      "provenance": [],
      "collapsed_sections": [
        "JSsAgDNpve9O"
      ],
      "mount_file_id": "1OdUWKm4HoRryRff7jNtHbbxE7lRUXhMY",
      "authorship_tag": "ABX9TyPdfBN2v94irmEbhkSyeJtt",
      "include_colab_link": true
    },
    "kernelspec": {
      "name": "python3",
      "display_name": "Python 3"
    },
    "language_info": {
      "name": "python"
    },
    "accelerator": "GPU"
  },
  "cells": [
    {
      "cell_type": "markdown",
      "metadata": {
        "id": "view-in-github",
        "colab_type": "text"
      },
      "source": [
        "<a href=\"https://colab.research.google.com/github/chloe-dg/NYC-Taxi-Fare-Prediction/blob/main/NY_City_Taxi_Fare_Prediction.ipynb\" target=\"_parent\"><img src=\"https://colab.research.google.com/assets/colab-badge.svg\" alt=\"Open In Colab\"/></a>"
      ]
    },
    {
      "cell_type": "markdown",
      "source": [
        "# Load the dataset"
      ],
      "metadata": {
        "id": "JSsAgDNpve9O"
      }
    },
    {
      "cell_type": "code",
      "execution_count": null,
      "metadata": {
        "colab": {
          "resources": {
            "http://localhost:8080/nbextensions/google.colab/files.js": {
              "data": "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",
              "ok": true,
              "headers": [
                [
                  "content-type",
                  "application/javascript"
                ]
              ],
              "status": 200,
              "status_text": ""
            }
          },
          "base_uri": "https://localhost:8080/",
          "height": 86
        },
        "id": "P12kDqhBu54C",
        "outputId": "5c396544-55d3-4c22-f5d8-2a32d39a22e1"
      },
      "outputs": [
        {
          "output_type": "display_data",
          "data": {
            "text/html": [
              "\n",
              "     <input type=\"file\" id=\"files-1a4cdf35-db07-4f93-9f68-daef61a60ffe\" name=\"files[]\" multiple disabled\n",
              "        style=\"border:none\" />\n",
              "     <output id=\"result-1a4cdf35-db07-4f93-9f68-daef61a60ffe\">\n",
              "      Upload widget is only available when the cell has been executed in the\n",
              "      current browser session. Please rerun this cell to enable.\n",
              "      </output>\n",
              "      <script src=\"/nbextensions/google.colab/files.js\"></script> "
            ],
            "text/plain": [
              "<IPython.core.display.HTML object>"
            ]
          },
          "metadata": {}
        },
        {
          "output_type": "stream",
          "name": "stdout",
          "text": [
            "Saving kaggle.json to kaggle.json\n"
          ]
        },
        {
          "output_type": "execute_result",
          "data": {
            "text/plain": [
              "{'kaggle.json': b'{\"username\":\"chloedg\",\"key\":\"77feeebd0411c7a81242f4a137a78309\"}'}"
            ]
          },
          "metadata": {},
          "execution_count": 1
        }
      ],
      "source": [
        "from google.colab import files\n",
        "files.upload()"
      ]
    },
    {
      "cell_type": "code",
      "source": [
        "!mkdir ~/.kaggle\n",
        "!cp kaggle.json ~/.kaggle/\n",
        "!chmod 600 ~/.kaggle/kaggle.json"
      ],
      "metadata": {
        "id": "JImcl1dfvJwp"
      },
      "execution_count": null,
      "outputs": []
    },
    {
      "cell_type": "code",
      "source": [
        "!kaggle competitions download -c new-york-city-taxi-fare-prediction"
      ],
      "metadata": {
        "colab": {
          "base_uri": "https://localhost:8080/"
        },
        "id": "NWvxbjrnvJuM",
        "outputId": "c5dfd8bf-eedf-46b4-87cd-29097f3ac3bd"
      },
      "execution_count": null,
      "outputs": [
        {
          "output_type": "stream",
          "name": "stdout",
          "text": [
            "Warning: Looks like you're using an outdated API Version, please consider updating (server 1.5.12 / client 1.5.4)\n",
            "Downloading GCP-Coupons-Instructions.rtf to /content\n",
            "  0% 0.00/486 [00:00<?, ?B/s]\n",
            "100% 486/486 [00:00<00:00, 874kB/s]\n",
            "Downloading train.csv.zip to /content\n",
            "100% 1.55G/1.56G [00:40<00:00, 37.0MB/s]\n",
            "100% 1.56G/1.56G [00:40<00:00, 41.2MB/s]\n",
            "Downloading test.csv to /content\n",
            "  0% 0.00/960k [00:00<?, ?B/s]\n",
            "100% 960k/960k [00:00<00:00, 30.5MB/s]\n",
            "Downloading sample_submission.csv to /content\n",
            "  0% 0.00/335k [00:00<?, ?B/s]\n",
            "100% 335k/335k [00:00<00:00, 102MB/s]\n"
          ]
        }
      ]
    },
    {
      "cell_type": "markdown",
      "source": [
        "# Import libraries and inspect dataset"
      ],
      "metadata": {
        "id": "c8DYzLy_vjE-"
      }
    },
    {
      "cell_type": "code",
      "source": [
        "%matplotlib inline\n",
        "import pathlib\n",
        "import matplotlib.pyplot as plt\n",
        "from pylab import rcParams\n",
        "rcParams['figure.figsize'] = 8, 6\n",
        "import pandas as pd\n",
        "import numpy as np\n",
        "import seaborn as sns\n",
        "pd.set_option('display.max_columns', 500)\n",
        "from collections import defaultdict\n",
        "\n",
        "from IPython.core.interactiveshell import InteractiveShell\n",
        "InteractiveShell.ast_node_interactivity='all'\n",
        "\n",
        "from sklearn.model_selection import train_test_split\n",
        "from sklearn import preprocessing\n",
        "from sklearn.metrics import mean_squared_error\n",
        "\n",
        "pd.options.mode.chained_assignment = None\n",
        "\n",
        "from torch.nn import init\n",
        "import torch\n",
        "import torch.nn as nn\n",
        "import torch.optim as optim\n",
        "from torch.autograd import Variable\n",
        "import torch.nn.functional as F\n",
        "from torch.utils import data\n",
        "from torch.optim import lr_scheduler\n",
        "\n",
        "device = torch.device(\"cuda:0\" if torch.cuda.is_available() else \"cpu\")\n",
        "device\n",
        "\n",
        "from tqdm import tqdm, tqdm_notebook, tnrange\n",
        "tqdm.pandas(desc='Progress')"
      ],
      "metadata": {
        "id": "hcRherC7vo5o"
      },
      "execution_count": 2,
      "outputs": []
    },
    {
      "cell_type": "code",
      "source": [
        "def haversine_distance(df, start_lat, end_lat, start_lng, end_lng, prefix):\n",
        "    \"\"\"\n",
        "    calculates haversine distance between 2 sets of GPS coordinates in df\n",
        "    \"\"\"\n",
        "    R = 6371  #radius of earth in kilometers\n",
        "       \n",
        "    phi1 = np.radians(df[start_lat])\n",
        "    phi2 = np.radians(df[end_lat])\n",
        "    \n",
        "    delta_phi = np.radians(df[end_lat]-df[start_lat])\n",
        "    delta_lambda = np.radians(df[end_lng]-df[start_lng])\n",
        "    \n",
        "        \n",
        "    a = np.sin(delta_phi / 2.0) ** 2 + np.cos(phi1) * np.cos(phi2) * np.sin(delta_lambda / 2.0) ** 2\n",
        "    c = 2 * np.arctan2(np.sqrt(a), np.sqrt(1-a))\n",
        "    d = (R * c) #in kilometers\n",
        "    df[prefix+'distance_km'] = d\n",
        "\n",
        "def add_datepart(df, col, prefix):\n",
        "    attr = ['Year', 'Month', 'Week', 'Day', 'Dayofweek', 'Dayofyear',\n",
        "            'Is_month_end', 'Is_month_start', 'Is_quarter_end', 'Is_quarter_start', 'Is_year_end', 'Is_year_start']\n",
        "    attr = attr + ['Hour', 'Minute', 'Second']\n",
        "    for n in attr: df[prefix + n] = getattr(df[col].dt, n.lower())\n",
        "    df[prefix + 'Elapsed'] = df[col].astype(np.int64) // 10 ** 9\n",
        "    df.drop(col, axis=1, inplace=True)\n",
        "    \n",
        "def reject_outliers(data, m = 2.):\n",
        "    d = np.abs(data - np.median(data))\n",
        "    mdev = np.median(d)\n",
        "    s = d/(mdev if mdev else 1.)\n",
        "    return s<m\n",
        "\n",
        "def parse_gps(df, prefix):\n",
        "    lat = prefix + '_latitude'\n",
        "    lon = prefix + '_longitude'\n",
        "    df[prefix + '_x'] = np.cos(df[lat]) * np.cos(df[lon])\n",
        "    df[prefix + '_y'] = np.cos(df[lat]) * np.sin(df[lon]) \n",
        "    df[prefix + '_z'] = np.sin(df[lat])\n",
        "    df.drop([lat, lon], axis=1, inplace=True)\n",
        "    \n",
        "def prepare_dataset(df):\n",
        "    df['pickup_datetime'] = pd.to_datetime(df.pickup_datetime, infer_datetime_format=True)\n",
        "    add_datepart(df, 'pickup_datetime', 'pickup')\n",
        "    haversine_distance(df, 'pickup_latitude', 'dropoff_latitude', 'pickup_longitude', 'dropoff_longitude', '')\n",
        "    parse_gps(df, 'pickup')\n",
        "    parse_gps(df, 'dropoff')\n",
        "    df.dropna(inplace=True)\n",
        "    y = np.log(df.fare_amount)\n",
        "    df.drop(['key', 'fare_amount'], axis=1, inplace=True)\n",
        "    \n",
        "    return df, y\n",
        "\n",
        "def split_features(df):\n",
        "    catf = ['pickupYear', 'pickupMonth', 'pickupWeek', 'pickupDay', 'pickupDayofweek', \n",
        "            'pickupDayofyear', 'pickupHour', 'pickupMinute', 'pickupSecond', 'pickupIs_month_end',\n",
        "            'pickupIs_month_start', 'pickupIs_quarter_end', 'pickupIs_quarter_start',\n",
        "            'pickupIs_year_end', 'pickupIs_year_start']\n",
        "\n",
        "    numf = [col for col in df.columns if col not in catf]\n",
        "    for c in catf: \n",
        "        df[c] = df[c].astype('category').cat.as_ordered()\n",
        "        df[c] = df[c].cat.codes+1\n",
        "    \n",
        "    return catf, numf\n",
        "\n",
        "def numericalize(df):\n",
        "    df[name] = col.cat.codes+1\n",
        "\n",
        "def split_dataset(df, y): return train_test_split(df, y, test_size=0.25, random_state=42)\n",
        "\n",
        "def inv_y(y): return np.exp(y)\n",
        "\n",
        "def get_numf_scaler(train): return preprocessing.StandardScaler().fit(train)\n",
        "\n",
        "def scale_numf(df, num, scaler):\n",
        "    cols = numf\n",
        "    index = df.index\n",
        "    scaled = scaler.transform(df[numf])\n",
        "    scaled = pd.DataFrame(scaled, columns=cols, index=index)\n",
        "    return pd.concat([scaled, df.drop(numf, axis=1)], axis=1)\n",
        "\n",
        "class RegressionColumnarDataset(data.Dataset):\n",
        "    def __init__(self, df, cats, y):\n",
        "        self.dfcats = df[cats]\n",
        "        self.dfconts = df.drop(cats, axis=1)\n",
        "        \n",
        "        self.cats = np.stack([c.values for n, c in self.dfcats.items()], axis=1).astype(np.int64)\n",
        "        self.conts = np.stack([c.values for n, c in self.dfconts.items()], axis=1).astype(np.float32)\n",
        "        self.y = y.values.astype(np.float32)\n",
        "        \n",
        "    def __len__(self): return len(self.y)\n",
        "\n",
        "    def __getitem__(self, idx):\n",
        "        return [self.cats[idx], self.conts[idx], self.y[idx]]\n",
        "    \n",
        "def rmse(targ, y_pred):\n",
        "    return np.sqrt(mean_squared_error(inv_y(y_pred), inv_y(targ))) #.detach().numpy()\n",
        "\n",
        "def emb_init(x):\n",
        "    x = x.weight.data\n",
        "    sc = 2/(x.size(1)+1)\n",
        "    x.uniform_(-sc,sc)\n",
        "\n",
        "class MixedInputModel(nn.Module):\n",
        "    def __init__(self, emb_szs, n_cont, emb_drop, out_sz, szs, drops, y_range, use_bn=True):\n",
        "        super().__init__()\n",
        "        for i,(c,s) in enumerate(emb_szs): assert c > 1, f\"cardinality must be >=2, got emb_szs[{i}]: ({c},{s})\"\n",
        "        self.embs = nn.ModuleList([nn.Embedding(c, s) for c,s in emb_szs])\n",
        "        for emb in self.embs: emb_init(emb)\n",
        "        n_emb = sum(e.embedding_dim for e in self.embs)\n",
        "        self.n_emb, self.n_cont=n_emb, n_cont\n",
        "        \n",
        "        szs = [n_emb+n_cont] + szs\n",
        "        self.lins = nn.ModuleList([nn.Linear(szs[i], szs[i+1]) for i in range(len(szs)-1)])\n",
        "        self.bns = nn.ModuleList([nn.BatchNorm1d(sz) for sz in szs[1:]])\n",
        "        for o in self.lins: nn.init.kaiming_normal_(o.weight.data)\n",
        "        self.outp = nn.Linear(szs[-1], out_sz)\n",
        "        nn.init.kaiming_normal_(self.outp.weight.data)\n",
        "\n",
        "        self.emb_drop = nn.Dropout(emb_drop)\n",
        "        self.drops = nn.ModuleList([nn.Dropout(drop) for drop in drops])\n",
        "        self.bn = nn.BatchNorm1d(n_cont)\n",
        "        self.use_bn,self.y_range = use_bn,y_range\n",
        "\n",
        "    def forward(self, x_cat, x_cont):\n",
        "        if self.n_emb != 0:\n",
        "            x = [e(x_cat[:,i]) for i,e in enumerate(self.embs)]\n",
        "            x = torch.cat(x, 1)\n",
        "            x = self.emb_drop(x)\n",
        "        if self.n_cont != 0:\n",
        "            x2 = self.bn(x_cont)\n",
        "            x = torch.cat([x, x2], 1) if self.n_emb != 0 else x2\n",
        "        for l,d,b in zip(self.lins, self.drops, self.bns):\n",
        "            x = F.relu(l(x))\n",
        "            if self.use_bn: x = b(x)\n",
        "            x = d(x)\n",
        "        x = self.outp(x)\n",
        "        if self.y_range:\n",
        "            x = torch.sigmoid(x)\n",
        "            x = x*(self.y_range[1] - self.y_range[0])\n",
        "            x = x+self.y_range[0]\n",
        "        return x.squeeze()\n",
        "\n",
        "def fit(model, train_dl, val_dl, loss_fn, opt, scheduler, epochs=3):\n",
        "    num_batch = len(train_dl)\n",
        "    for epoch in tnrange(epochs):      \n",
        "        y_true_train = list()\n",
        "        y_pred_train = list()\n",
        "        total_loss_train = 0          \n",
        "        \n",
        "        t = tqdm_notebook(iter(train_dl), leave=False, total=num_batch)\n",
        "        for cat, cont, y in t:\n",
        "            cat = cat.cuda()\n",
        "            cont = cont.cuda()\n",
        "            y = y.cuda()\n",
        "            \n",
        "            t.set_description(f'Epoch {epoch}')\n",
        "            \n",
        "            opt.zero_grad()\n",
        "            pred = model(cat, cont)\n",
        "            loss = loss_fn(pred, y)\n",
        "            loss.backward()\n",
        "            lr[epoch].append(opt.param_groups[0]['lr'])\n",
        "            tloss[epoch].append(loss.item())\n",
        "            scheduler.step()\n",
        "            opt.step()\n",
        "            \n",
        "            t.set_postfix(loss=loss.item())\n",
        "            \n",
        "            y_true_train += list(y.cpu().data.numpy())\n",
        "            y_pred_train += list(pred.cpu().data.numpy())\n",
        "            total_loss_train += loss.item()\n",
        "            \n",
        "        train_acc = rmse(y_true_train, y_pred_train)\n",
        "        train_loss = total_loss_train/len(train_dl)\n",
        "        \n",
        "        if val_dl:\n",
        "            y_true_val = list()\n",
        "            y_pred_val = list()\n",
        "            total_loss_val = 0\n",
        "            for cat, cont, y in tqdm_notebook(val_dl, leave=False):\n",
        "                cat = cat.cuda()\n",
        "                cont = cont.cuda()\n",
        "                y = y.cuda()\n",
        "                pred = model(cat, cont)\n",
        "                loss = loss_fn(pred, y)\n",
        "                \n",
        "                y_true_val += list(y.cpu().data.numpy())\n",
        "                y_pred_val += list(pred.cpu().data.numpy())\n",
        "                total_loss_val += loss.item()\n",
        "                vloss[epoch].append(loss.item())\n",
        "            valacc = rmse(y_true_val, y_pred_val)\n",
        "            valloss = total_loss_val/len(valdl)\n",
        "            print(f'Epoch {epoch}: train_loss: {train_loss:.4f} train_rmse: {train_acc:.4f} | val_loss: {valloss:.4f} val_rmse: {valacc:.4f}')\n",
        "        else:\n",
        "            print(f'Epoch {epoch}: train_loss: {train_loss:.4f} train_rmse: {train_acc:.4f}')\n",
        "    \n",
        "    return lr, tloss, vloss"
      ],
      "metadata": {
        "id": "ERghJtjNWdzJ"
      },
      "execution_count": 38,
      "outputs": []
    },
    {
      "cell_type": "code",
      "source": [
        "pip install dask"
      ],
      "metadata": {
        "colab": {
          "base_uri": "https://localhost:8080/"
        },
        "id": "i1kCLwKDOwhO",
        "outputId": "840d2d91-c692-4426-bc4c-b03a5b3f5d05"
      },
      "execution_count": 8,
      "outputs": [
        {
          "output_type": "stream",
          "name": "stdout",
          "text": [
            "Requirement already satisfied: dask in /usr/local/lib/python3.7/dist-packages (2.12.0)\n"
          ]
        }
      ]
    },
    {
      "cell_type": "code",
      "source": [
        "\n",
        "# start = time.time()\n",
        "df = pd.read_csv('/content/train.csv',chunksize=1000000)\n",
        "# end = time.time()\n",
        "# print(\"Read csv with dask: \",(end-start),\"sec\")"
      ],
      "metadata": {
        "id": "m7rAq-CnvJcj"
      },
      "execution_count": 17,
      "outputs": []
    },
    {
      "cell_type": "code",
      "source": [
        "df = pd.concat(df, ignore_index=True)"
      ],
      "metadata": {
        "id": "vLwoJvdtvJVh"
      },
      "execution_count": 25,
      "outputs": []
    },
    {
      "cell_type": "code",
      "source": [
        "df.shape"
      ],
      "metadata": {
        "id": "TTO4twicvJTS",
        "colab": {
          "base_uri": "https://localhost:8080/"
        },
        "outputId": "f9f3da01-0501-48b1-e941-1c637e98f58f"
      },
      "execution_count": 31,
      "outputs": [
        {
          "output_type": "execute_result",
          "data": {
            "text/plain": [
              "(9785456, 8)"
            ]
          },
          "metadata": {},
          "execution_count": 31
        }
      ]
    },
    {
      "cell_type": "code",
      "source": [
        "df.columns"
      ],
      "metadata": {
        "id": "SyS2hjRzvJRI",
        "colab": {
          "base_uri": "https://localhost:8080/"
        },
        "outputId": "e996727e-334d-4683-d2a4-05ffa10eecd1"
      },
      "execution_count": 32,
      "outputs": [
        {
          "output_type": "execute_result",
          "data": {
            "text/plain": [
              "Index(['key', 'fare_amount', 'pickup_datetime', 'pickup_longitude',\n",
              "       'pickup_latitude', 'dropoff_longitude', 'dropoff_latitude',\n",
              "       'passenger_count'],\n",
              "      dtype='object')"
            ]
          },
          "metadata": {},
          "execution_count": 32
        }
      ]
    },
    {
      "cell_type": "code",
      "source": [
        "df['passenger_count'].describe()"
      ],
      "metadata": {
        "id": "NOgqCKWGvJO5",
        "colab": {
          "base_uri": "https://localhost:8080/"
        },
        "outputId": "642d6efa-2fe5-4ae3-d37e-f7f54e1859ff"
      },
      "execution_count": 34,
      "outputs": [
        {
          "output_type": "execute_result",
          "data": {
            "text/plain": [
              "count    9.785456e+06\n",
              "mean     1.685222e+00\n",
              "std      1.328278e+00\n",
              "min      0.000000e+00\n",
              "25%      1.000000e+00\n",
              "50%      1.000000e+00\n",
              "75%      2.000000e+00\n",
              "max      2.080000e+02\n",
              "Name: passenger_count, dtype: float64"
            ]
          },
          "metadata": {},
          "execution_count": 34
        }
      ]
    },
    {
      "cell_type": "code",
      "source": [
        "df.passenger_count.quantile([.85, .99])"
      ],
      "metadata": {
        "id": "Z4ezVEodvJMl",
        "colab": {
          "base_uri": "https://localhost:8080/"
        },
        "outputId": "e83e5c98-9c31-4a69-f72a-c9dd090ca6b9"
      },
      "execution_count": 35,
      "outputs": [
        {
          "output_type": "execute_result",
          "data": {
            "text/plain": [
              "0.85    3.0\n",
              "0.99    6.0\n",
              "Name: passenger_count, dtype: float64"
            ]
          },
          "metadata": {},
          "execution_count": 35
        }
      ]
    },
    {
      "cell_type": "code",
      "source": [
        "df.fare_amount.describe()\n",
        "\n",
        "df.fare_amount.quantile([.85, .99])"
      ],
      "metadata": {
        "id": "iIHqZ4MivJKd",
        "colab": {
          "base_uri": "https://localhost:8080/"
        },
        "outputId": "3102a1db-56a9-40d7-f602-1ac8e5749874"
      },
      "execution_count": 36,
      "outputs": [
        {
          "output_type": "execute_result",
          "data": {
            "text/plain": [
              "count    9.785456e+06\n",
              "mean     1.134041e+01\n",
              "std      9.789630e+00\n",
              "min     -3.000000e+02\n",
              "25%      6.000000e+00\n",
              "50%      8.500000e+00\n",
              "75%      1.250000e+01\n",
              "max      9.999900e+02\n",
              "Name: fare_amount, dtype: float64"
            ]
          },
          "metadata": {},
          "execution_count": 36
        },
        {
          "output_type": "execute_result",
          "data": {
            "text/plain": [
              "0.85    16.5\n",
              "0.99    53.0\n",
              "Name: fare_amount, dtype: float64"
            ]
          },
          "metadata": {},
          "execution_count": 36
        }
      ]
    },
    {
      "cell_type": "code",
      "source": [
        "df = df.loc[(df.fare_amount > 0) & (df.passenger_count < 6) & (df.fare_amount < 53), :]"
      ],
      "metadata": {
        "id": "nCGQSLfpvJIK"
      },
      "execution_count": 37,
      "outputs": []
    },
    {
      "cell_type": "code",
      "source": [
        "df, y = prepare_dataset(df)\n",
        "\n",
        "df.shape\n",
        "df.head()"
      ],
      "metadata": {
        "id": "ffAu49KfvJF3",
        "colab": {
          "base_uri": "https://localhost:8080/",
          "height": 322
        },
        "outputId": "ce998a5f-e387-4a44-981b-be76b872e492"
      },
      "execution_count": 39,
      "outputs": [
        {
          "output_type": "stream",
          "name": "stderr",
          "text": [
            "/usr/local/lib/python3.7/dist-packages/ipykernel_launcher.py:23: FutureWarning: Series.dt.weekofyear and Series.dt.week have been deprecated.  Please use Series.dt.isocalendar().week instead.\n",
            "/usr/local/lib/python3.7/dist-packages/ipykernel_launcher.py:24: FutureWarning: casting datetime64[ns, UTC] values to int64 with .astype(...) is deprecated and will raise in a future version. Use .view(...) instead.\n"
          ]
        },
        {
          "output_type": "execute_result",
          "data": {
            "text/plain": [
              "(9482009, 24)"
            ]
          },
          "metadata": {},
          "execution_count": 39
        },
        {
          "output_type": "execute_result",
          "data": {
            "text/html": [
              "\n",
              "  <div id=\"df-c3418797-dedf-4234-9906-9f97a18d0b21\">\n",
              "    <div class=\"colab-df-container\">\n",
              "      <div>\n",
              "<style scoped>\n",
              "    .dataframe tbody tr th:only-of-type {\n",
              "        vertical-align: middle;\n",
              "    }\n",
              "\n",
              "    .dataframe tbody tr th {\n",
              "        vertical-align: top;\n",
              "    }\n",
              "\n",
              "    .dataframe thead th {\n",
              "        text-align: right;\n",
              "    }\n",
              "</style>\n",
              "<table border=\"1\" class=\"dataframe\">\n",
              "  <thead>\n",
              "    <tr style=\"text-align: right;\">\n",
              "      <th></th>\n",
              "      <th>passenger_count</th>\n",
              "      <th>pickupYear</th>\n",
              "      <th>pickupMonth</th>\n",
              "      <th>pickupWeek</th>\n",
              "      <th>pickupDay</th>\n",
              "      <th>pickupDayofweek</th>\n",
              "      <th>pickupDayofyear</th>\n",
              "      <th>pickupIs_month_end</th>\n",
              "      <th>pickupIs_month_start</th>\n",
              "      <th>pickupIs_quarter_end</th>\n",
              "      <th>pickupIs_quarter_start</th>\n",
              "      <th>pickupIs_year_end</th>\n",
              "      <th>pickupIs_year_start</th>\n",
              "      <th>pickupHour</th>\n",
              "      <th>pickupMinute</th>\n",
              "      <th>pickupSecond</th>\n",
              "      <th>pickupElapsed</th>\n",
              "      <th>distance_km</th>\n",
              "      <th>pickup_x</th>\n",
              "      <th>pickup_y</th>\n",
              "      <th>pickup_z</th>\n",
              "      <th>dropoff_x</th>\n",
              "      <th>dropoff_y</th>\n",
              "      <th>dropoff_z</th>\n",
              "    </tr>\n",
              "  </thead>\n",
              "  <tbody>\n",
              "    <tr>\n",
              "      <th>0</th>\n",
              "      <td>2</td>\n",
              "      <td>2014</td>\n",
              "      <td>12</td>\n",
              "      <td>1</td>\n",
              "      <td>30</td>\n",
              "      <td>1</td>\n",
              "      <td>364</td>\n",
              "      <td>False</td>\n",
              "      <td>False</td>\n",
              "      <td>False</td>\n",
              "      <td>False</td>\n",
              "      <td>False</td>\n",
              "      <td>False</td>\n",
              "      <td>2</td>\n",
              "      <td>17</td>\n",
              "      <td>21</td>\n",
              "      <td>1419905841</td>\n",
              "      <td>7.108614</td>\n",
              "      <td>-0.166408</td>\n",
              "      <td>-0.983487</td>\n",
              "      <td>0.071151</td>\n",
              "      <td>-0.183380</td>\n",
              "      <td>-0.973977</td>\n",
              "      <td>0.133191</td>\n",
              "    </tr>\n",
              "    <tr>\n",
              "      <th>1</th>\n",
              "      <td>4</td>\n",
              "      <td>2015</td>\n",
              "      <td>2</td>\n",
              "      <td>7</td>\n",
              "      <td>12</td>\n",
              "      <td>3</td>\n",
              "      <td>43</td>\n",
              "      <td>False</td>\n",
              "      <td>False</td>\n",
              "      <td>False</td>\n",
              "      <td>False</td>\n",
              "      <td>False</td>\n",
              "      <td>False</td>\n",
              "      <td>7</td>\n",
              "      <td>47</td>\n",
              "      <td>15</td>\n",
              "      <td>1423727235</td>\n",
              "      <td>2.845515</td>\n",
              "      <td>-0.122967</td>\n",
              "      <td>-0.989938</td>\n",
              "      <td>0.070013</td>\n",
              "      <td>-0.156099</td>\n",
              "      <td>-0.985486</td>\n",
              "      <td>0.066718</td>\n",
              "    </tr>\n",
              "    <tr>\n",
              "      <th>2</th>\n",
              "      <td>1</td>\n",
              "      <td>2009</td>\n",
              "      <td>12</td>\n",
              "      <td>52</td>\n",
              "      <td>24</td>\n",
              "      <td>3</td>\n",
              "      <td>358</td>\n",
              "      <td>False</td>\n",
              "      <td>False</td>\n",
              "      <td>False</td>\n",
              "      <td>False</td>\n",
              "      <td>False</td>\n",
              "      <td>False</td>\n",
              "      <td>13</td>\n",
              "      <td>41</td>\n",
              "      <td>0</td>\n",
              "      <td>1261662060</td>\n",
              "      <td>3.133819</td>\n",
              "      <td>-0.158245</td>\n",
              "      <td>-0.984043</td>\n",
              "      <td>0.081347</td>\n",
              "      <td>-0.133884</td>\n",
              "      <td>-0.989151</td>\n",
              "      <td>0.060463</td>\n",
              "    </tr>\n",
              "    <tr>\n",
              "      <th>3</th>\n",
              "      <td>5</td>\n",
              "      <td>2010</td>\n",
              "      <td>1</td>\n",
              "      <td>4</td>\n",
              "      <td>29</td>\n",
              "      <td>4</td>\n",
              "      <td>29</td>\n",
              "      <td>False</td>\n",
              "      <td>False</td>\n",
              "      <td>False</td>\n",
              "      <td>False</td>\n",
              "      <td>False</td>\n",
              "      <td>False</td>\n",
              "      <td>14</td>\n",
              "      <td>25</td>\n",
              "      <td>0</td>\n",
              "      <td>1264775100</td>\n",
              "      <td>1.857491</td>\n",
              "      <td>-0.152693</td>\n",
              "      <td>-0.985129</td>\n",
              "      <td>0.078780</td>\n",
              "      <td>-0.144517</td>\n",
              "      <td>-0.985003</td>\n",
              "      <td>0.094259</td>\n",
              "    </tr>\n",
              "    <tr>\n",
              "      <th>4</th>\n",
              "      <td>1</td>\n",
              "      <td>2014</td>\n",
              "      <td>6</td>\n",
              "      <td>24</td>\n",
              "      <td>14</td>\n",
              "      <td>5</td>\n",
              "      <td>165</td>\n",
              "      <td>False</td>\n",
              "      <td>False</td>\n",
              "      <td>False</td>\n",
              "      <td>False</td>\n",
              "      <td>False</td>\n",
              "      <td>False</td>\n",
              "      <td>17</td>\n",
              "      <td>29</td>\n",
              "      <td>17</td>\n",
              "      <td>1402766957</td>\n",
              "      <td>1.802391</td>\n",
              "      <td>-0.141403</td>\n",
              "      <td>-0.986653</td>\n",
              "      <td>0.080757</td>\n",
              "      <td>-0.162480</td>\n",
              "      <td>-0.983442</td>\n",
              "      <td>0.080268</td>\n",
              "    </tr>\n",
              "  </tbody>\n",
              "</table>\n",
              "</div>\n",
              "      <button class=\"colab-df-convert\" onclick=\"convertToInteractive('df-c3418797-dedf-4234-9906-9f97a18d0b21')\"\n",
              "              title=\"Convert this dataframe to an interactive table.\"\n",
              "              style=\"display:none;\">\n",
              "        \n",
              "  <svg xmlns=\"http://www.w3.org/2000/svg\" height=\"24px\"viewBox=\"0 0 24 24\"\n",
              "       width=\"24px\">\n",
              "    <path d=\"M0 0h24v24H0V0z\" fill=\"none\"/>\n",
              "    <path d=\"M18.56 5.44l.94 2.06.94-2.06 2.06-.94-2.06-.94-.94-2.06-.94 2.06-2.06.94zm-11 1L8.5 8.5l.94-2.06 2.06-.94-2.06-.94L8.5 2.5l-.94 2.06-2.06.94zm10 10l.94 2.06.94-2.06 2.06-.94-2.06-.94-.94-2.06-.94 2.06-2.06.94z\"/><path d=\"M17.41 7.96l-1.37-1.37c-.4-.4-.92-.59-1.43-.59-.52 0-1.04.2-1.43.59L10.3 9.45l-7.72 7.72c-.78.78-.78 2.05 0 2.83L4 21.41c.39.39.9.59 1.41.59.51 0 1.02-.2 1.41-.59l7.78-7.78 2.81-2.81c.8-.78.8-2.07 0-2.86zM5.41 20L4 18.59l7.72-7.72 1.47 1.35L5.41 20z\"/>\n",
              "  </svg>\n",
              "      </button>\n",
              "      \n",
              "  <style>\n",
              "    .colab-df-container {\n",
              "      display:flex;\n",
              "      flex-wrap:wrap;\n",
              "      gap: 12px;\n",
              "    }\n",
              "\n",
              "    .colab-df-convert {\n",
              "      background-color: #E8F0FE;\n",
              "      border: none;\n",
              "      border-radius: 50%;\n",
              "      cursor: pointer;\n",
              "      display: none;\n",
              "      fill: #1967D2;\n",
              "      height: 32px;\n",
              "      padding: 0 0 0 0;\n",
              "      width: 32px;\n",
              "    }\n",
              "\n",
              "    .colab-df-convert:hover {\n",
              "      background-color: #E2EBFA;\n",
              "      box-shadow: 0px 1px 2px rgba(60, 64, 67, 0.3), 0px 1px 3px 1px rgba(60, 64, 67, 0.15);\n",
              "      fill: #174EA6;\n",
              "    }\n",
              "\n",
              "    [theme=dark] .colab-df-convert {\n",
              "      background-color: #3B4455;\n",
              "      fill: #D2E3FC;\n",
              "    }\n",
              "\n",
              "    [theme=dark] .colab-df-convert:hover {\n",
              "      background-color: #434B5C;\n",
              "      box-shadow: 0px 1px 3px 1px rgba(0, 0, 0, 0.15);\n",
              "      filter: drop-shadow(0px 1px 2px rgba(0, 0, 0, 0.3));\n",
              "      fill: #FFFFFF;\n",
              "    }\n",
              "  </style>\n",
              "\n",
              "      <script>\n",
              "        const buttonEl =\n",
              "          document.querySelector('#df-c3418797-dedf-4234-9906-9f97a18d0b21 button.colab-df-convert');\n",
              "        buttonEl.style.display =\n",
              "          google.colab.kernel.accessAllowed ? 'block' : 'none';\n",
              "\n",
              "        async function convertToInteractive(key) {\n",
              "          const element = document.querySelector('#df-c3418797-dedf-4234-9906-9f97a18d0b21');\n",
              "          const dataTable =\n",
              "            await google.colab.kernel.invokeFunction('convertToInteractive',\n",
              "                                                     [key], {});\n",
              "          if (!dataTable) return;\n",
              "\n",
              "          const docLinkHtml = 'Like what you see? Visit the ' +\n",
              "            '<a target=\"_blank\" href=https://colab.research.google.com/notebooks/data_table.ipynb>data table notebook</a>'\n",
              "            + ' to learn more about interactive tables.';\n",
              "          element.innerHTML = '';\n",
              "          dataTable['output_type'] = 'display_data';\n",
              "          await google.colab.output.renderOutput(dataTable, element);\n",
              "          const docLink = document.createElement('div');\n",
              "          docLink.innerHTML = docLinkHtml;\n",
              "          element.appendChild(docLink);\n",
              "        }\n",
              "      </script>\n",
              "    </div>\n",
              "  </div>\n",
              "  "
            ],
            "text/plain": [
              "   passenger_count  pickupYear  pickupMonth  pickupWeek  pickupDay  \\\n",
              "0                2        2014           12           1         30   \n",
              "1                4        2015            2           7         12   \n",
              "2                1        2009           12          52         24   \n",
              "3                5        2010            1           4         29   \n",
              "4                1        2014            6          24         14   \n",
              "\n",
              "   pickupDayofweek  pickupDayofyear  pickupIs_month_end  pickupIs_month_start  \\\n",
              "0                1              364               False                 False   \n",
              "1                3               43               False                 False   \n",
              "2                3              358               False                 False   \n",
              "3                4               29               False                 False   \n",
              "4                5              165               False                 False   \n",
              "\n",
              "   pickupIs_quarter_end  pickupIs_quarter_start  pickupIs_year_end  \\\n",
              "0                 False                   False              False   \n",
              "1                 False                   False              False   \n",
              "2                 False                   False              False   \n",
              "3                 False                   False              False   \n",
              "4                 False                   False              False   \n",
              "\n",
              "   pickupIs_year_start  pickupHour  pickupMinute  pickupSecond  pickupElapsed  \\\n",
              "0                False           2            17            21     1419905841   \n",
              "1                False           7            47            15     1423727235   \n",
              "2                False          13            41             0     1261662060   \n",
              "3                False          14            25             0     1264775100   \n",
              "4                False          17            29            17     1402766957   \n",
              "\n",
              "   distance_km  pickup_x  pickup_y  pickup_z  dropoff_x  dropoff_y  dropoff_z  \n",
              "0     7.108614 -0.166408 -0.983487  0.071151  -0.183380  -0.973977   0.133191  \n",
              "1     2.845515 -0.122967 -0.989938  0.070013  -0.156099  -0.985486   0.066718  \n",
              "2     3.133819 -0.158245 -0.984043  0.081347  -0.133884  -0.989151   0.060463  \n",
              "3     1.857491 -0.152693 -0.985129  0.078780  -0.144517  -0.985003   0.094259  \n",
              "4     1.802391 -0.141403 -0.986653  0.080757  -0.162480  -0.983442   0.080268  "
            ]
          },
          "metadata": {},
          "execution_count": 39
        }
      ]
    },
    {
      "cell_type": "code",
      "source": [
        "ax = y.hist(bins=20, figsize=(8,6))\n",
        "_ = ax.set_xlabel(\"Ride Value (EUR)\")\n",
        "_ = ax.set_ylabel(\"# Rides\")\n",
        "_ = ax.set_title('Ditribution of Ride Values (USD)')"
      ],
      "metadata": {
        "id": "IFTzSkIrvJDl",
        "colab": {
          "base_uri": "https://localhost:8080/",
          "height": 404
        },
        "outputId": "77533cd0-dc9c-47ab-b097-d3a0cbfe158c"
      },
      "execution_count": 40,
      "outputs": [
        {
          "output_type": "display_data",
          "data": {
            "image/png": "[encoded data removed]",
            "text/plain": [
              "<Figure size 576x432 with 1 Axes>"
            ]
          },
          "metadata": {
            "needs_background": "light"
          }
        }
      ]
    },
    {
      "cell_type": "code",
      "source": [
        "catf, numf = split_features(df)\n",
        "\n",
        "len(catf)\n",
        "catf\n",
        "\n",
        "len(numf)\n",
        "numf"
      ],
      "metadata": {
        "id": "KrnhWRHgvJB2",
        "colab": {
          "base_uri": "https://localhost:8080/"
        },
        "outputId": "41227a95-2527-408c-92e9-7b52ccf2acee"
      },
      "execution_count": 41,
      "outputs": [
        {
          "output_type": "execute_result",
          "data": {
            "text/plain": [
              "15"
            ]
          },
          "metadata": {},
          "execution_count": 41
        },
        {
          "output_type": "execute_result",
          "data": {
            "text/plain": [
              "['pickupYear',\n",
              " 'pickupMonth',\n",
              " 'pickupWeek',\n",
              " 'pickupDay',\n",
              " 'pickupDayofweek',\n",
              " 'pickupDayofyear',\n",
              " 'pickupHour',\n",
              " 'pickupMinute',\n",
              " 'pickupSecond',\n",
              " 'pickupIs_month_end',\n",
              " 'pickupIs_month_start',\n",
              " 'pickupIs_quarter_end',\n",
              " 'pickupIs_quarter_start',\n",
              " 'pickupIs_year_end',\n",
              " 'pickupIs_year_start']"
            ]
          },
          "metadata": {},
          "execution_count": 41
        },
        {
          "output_type": "execute_result",
          "data": {
            "text/plain": [
              "9"
            ]
          },
          "metadata": {},
          "execution_count": 41
        },
        {
          "output_type": "execute_result",
          "data": {
            "text/plain": [
              "['passenger_count',\n",
              " 'pickupElapsed',\n",
              " 'distance_km',\n",
              " 'pickup_x',\n",
              " 'pickup_y',\n",
              " 'pickup_z',\n",
              " 'dropoff_x',\n",
              " 'dropoff_y',\n",
              " 'dropoff_z']"
            ]
          },
          "metadata": {},
          "execution_count": 41
        }
      ]
    },
    {
      "cell_type": "code",
      "source": [
        "X_train, X_test, y_train, y_test = split_dataset(df, y)\n",
        "\n",
        "X_train.shape\n",
        "X_test.shape"
      ],
      "metadata": {
        "id": "fCe2yekFvI_j",
        "colab": {
          "base_uri": "https://localhost:8080/"
        },
        "outputId": "3d7f5f1a-c0aa-4704-e2f0-ab54c018f93e"
      },
      "execution_count": 42,
      "outputs": [
        {
          "output_type": "execute_result",
          "data": {
            "text/plain": [
              "(7111506, 24)"
            ]
          },
          "metadata": {},
          "execution_count": 42
        },
        {
          "output_type": "execute_result",
          "data": {
            "text/plain": [
              "(2370503, 24)"
            ]
          },
          "metadata": {},
          "execution_count": 42
        }
      ]
    },
    {
      "cell_type": "code",
      "source": [
        "scaler = get_numf_scaler(X_train[numf])\n",
        "\n",
        "X_train_sc = scale_numf(X_train, numf, scaler)\n",
        "X_train_sc.std(axis=0)"
      ],
      "metadata": {
        "id": "uAzdelvEvI85",
        "colab": {
          "base_uri": "https://localhost:8080/"
        },
        "outputId": "54b1bb15-bb49-4632-b952-5f2bf882eb61"
      },
      "execution_count": 43,
      "outputs": [
        {
          "output_type": "execute_result",
          "data": {
            "text/plain": [
              "passenger_count             1.000000\n",
              "pickupElapsed               1.000000\n",
              "distance_km                 1.000000\n",
              "pickup_x                    1.000000\n",
              "pickup_y                    1.000000\n",
              "pickup_z                    1.000000\n",
              "dropoff_x                   1.000000\n",
              "dropoff_y                   1.000000\n",
              "dropoff_z                   1.000000\n",
              "pickupYear                  1.858007\n",
              "pickupMonth                 3.434565\n",
              "pickupWeek                 14.939796\n",
              "pickupDay                   8.682561\n",
              "pickupDayofweek             1.948519\n",
              "pickupDayofyear           104.735223\n",
              "pickupIs_month_end          0.178243\n",
              "pickupIs_month_start        0.173582\n",
              "pickupIs_quarter_end        0.103425\n",
              "pickupIs_quarter_start      0.097650\n",
              "pickupIs_year_end           0.048920\n",
              "pickupIs_year_start         0.046125\n",
              "pickupHour                  6.525323\n",
              "pickupMinute               17.332798\n",
              "pickupSecond               19.471095\n",
              "dtype: float64"
            ]
          },
          "metadata": {},
          "execution_count": 43
        }
      ]
    },
    {
      "cell_type": "code",
      "source": [
        "X_test_sc = scale_numf(X_test, numf, scaler)\n",
        "\n",
        "X_train_sc.shape\n",
        "X_test_sc.shape\n",
        "X_test_sc.std(axis=0)"
      ],
      "metadata": {
        "id": "CbVjl3_yvI6i",
        "colab": {
          "base_uri": "https://localhost:8080/"
        },
        "outputId": "5069f794-6e06-4ced-92da-b193a46cd539"
      },
      "execution_count": 44,
      "outputs": [
        {
          "output_type": "execute_result",
          "data": {
            "text/plain": [
              "(7111506, 24)"
            ]
          },
          "metadata": {},
          "execution_count": 44
        },
        {
          "output_type": "execute_result",
          "data": {
            "text/plain": [
              "(2370503, 24)"
            ]
          },
          "metadata": {},
          "execution_count": 44
        },
        {
          "output_type": "execute_result",
          "data": {
            "text/plain": [
              "passenger_count             0.999009\n",
              "pickupElapsed               1.000121\n",
              "distance_km                 0.990449\n",
              "pickup_x                    0.997651\n",
              "pickup_y                    0.997936\n",
              "pickup_z                    0.994029\n",
              "dropoff_x                   0.996669\n",
              "dropoff_y                   0.995689\n",
              "dropoff_z                   0.995865\n",
              "pickupYear                  1.858490\n",
              "pickupMonth                 3.435794\n",
              "pickupWeek                 14.944827\n",
              "pickupDay                   8.687503\n",
              "pickupDayofweek             1.949106\n",
              "pickupDayofyear           104.771694\n",
              "pickupIs_month_end          0.178777\n",
              "pickupIs_month_start        0.173909\n",
              "pickupIs_quarter_end        0.104115\n",
              "pickupIs_quarter_start      0.097809\n",
              "pickupIs_year_end           0.049174\n",
              "pickupIs_year_start         0.046225\n",
              "pickupHour                  6.526350\n",
              "pickupMinute               17.331501\n",
              "pickupSecond               19.475428\n",
              "dtype: float64"
            ]
          },
          "metadata": {},
          "execution_count": 44
        }
      ]
    },
    {
      "cell_type": "markdown",
      "source": [
        "# Defining pytorch datasets and dataloaders"
      ],
      "metadata": {
        "id": "UGb-XnBmYiBZ"
      }
    },
    {
      "cell_type": "code",
      "source": [
        "trainds = RegressionColumnarDataset(X_train_sc, catf, y_train)\n",
        "valds = RegressionColumnarDataset(X_test_sc, catf, y_test)"
      ],
      "metadata": {
        "id": "UwI9RDfEV4K3"
      },
      "execution_count": 45,
      "outputs": []
    },
    {
      "cell_type": "code",
      "source": [
        "params = {'batch_size': 128,\n",
        "          'shuffle': True,\n",
        "          'num_workers': 8}\n",
        "\n",
        "traindl = data.DataLoader(trainds, **params)\n",
        "valdl = data.DataLoader(valds, **params)"
      ],
      "metadata": {
        "colab": {
          "base_uri": "https://localhost:8080/"
        },
        "id": "SNrFNnR8V4HV",
        "outputId": "10d1782f-e508-44c2-da11-b88f673dedbc"
      },
      "execution_count": 46,
      "outputs": [
        {
          "output_type": "stream",
          "name": "stderr",
          "text": [
            "/usr/local/lib/python3.7/dist-packages/torch/utils/data/dataloader.py:481: UserWarning: This DataLoader will create 8 worker processes in total. Our suggested max number of worker in current system is 2, which is smaller than what this DataLoader is going to create. Please be aware that excessive worker creation might get DataLoader running slow or even freeze, lower the worker number to avoid potential slowness/freeze if necessary.\n",
            "  cpuset_checked))\n"
          ]
        }
      ]
    },
    {
      "cell_type": "markdown",
      "source": [
        "# Defining model and related variables¶"
      ],
      "metadata": {
        "id": "Hl265u3GYpd6"
      }
    },
    {
      "cell_type": "code",
      "source": [
        "y_range = (0, y_train.max()*1.2)\n",
        "y_range\n",
        "\n",
        "cat_sz = [(c, df[c].max()+1) for c in catf]\n",
        "cat_sz\n",
        "\n",
        "emb_szs = [(c, min(50, (c+1)//2)) for _,c in cat_sz]\n",
        "emb_szs"
      ],
      "metadata": {
        "colab": {
          "base_uri": "https://localhost:8080/"
        },
        "id": "RTwDJ7TuV4DU",
        "outputId": "bf24591f-91fe-4dbe-be58-6f055ca8b31c"
      },
      "execution_count": 47,
      "outputs": [
        {
          "output_type": "execute_result",
          "data": {
            "text/plain": [
              "(0, 4.7632176864568985)"
            ]
          },
          "metadata": {},
          "execution_count": 47
        },
        {
          "output_type": "execute_result",
          "data": {
            "text/plain": [
              "[('pickupYear', 8),\n",
              " ('pickupMonth', 13),\n",
              " ('pickupWeek', 54),\n",
              " ('pickupDay', 32),\n",
              " ('pickupDayofweek', 8),\n",
              " ('pickupDayofyear', 367),\n",
              " ('pickupHour', 25),\n",
              " ('pickupMinute', 61),\n",
              " ('pickupSecond', 61),\n",
              " ('pickupIs_month_end', 3),\n",
              " ('pickupIs_month_start', 3),\n",
              " ('pickupIs_quarter_end', 3),\n",
              " ('pickupIs_quarter_start', 3),\n",
              " ('pickupIs_year_end', 3),\n",
              " ('pickupIs_year_start', 3)]"
            ]
          },
          "metadata": {},
          "execution_count": 47
        },
        {
          "output_type": "execute_result",
          "data": {
            "text/plain": [
              "[(8, 4),\n",
              " (13, 7),\n",
              " (54, 27),\n",
              " (32, 16),\n",
              " (8, 4),\n",
              " (367, 50),\n",
              " (25, 13),\n",
              " (61, 31),\n",
              " (61, 31),\n",
              " (3, 2),\n",
              " (3, 2),\n",
              " (3, 2),\n",
              " (3, 2),\n",
              " (3, 2),\n",
              " (3, 2)]"
            ]
          },
          "metadata": {},
          "execution_count": 47
        }
      ]
    },
    {
      "cell_type": "code",
      "source": [
        "m = MixedInputModel(emb_szs=emb_szs, \n",
        "                    n_cont=len(df.columns)-len(catf), \n",
        "                    emb_drop=0.04, \n",
        "                    out_sz=1, \n",
        "                    szs=[1000,500,250], \n",
        "                    drops=[0.001,0.01,0.01], \n",
        "                    y_range=y_range).to(device)\n",
        "\n",
        "opt = optim.Adam(m.parameters(), 1e-2)\n",
        "lr_cosine = lr_scheduler.CosineAnnealingLR(opt, 1000)\n",
        "\n",
        "lr = defaultdict(list)\n",
        "tloss = defaultdict(list)\n",
        "vloss = defaultdict(list)"
      ],
      "metadata": {
        "id": "6Qaxd6pbV4AB"
      },
      "execution_count": 48,
      "outputs": []
    },
    {
      "cell_type": "code",
      "source": [
        "m"
      ],
      "metadata": {
        "colab": {
          "base_uri": "https://localhost:8080/"
        },
        "id": "a-u3UE85V38V",
        "outputId": "fc3fe0ec-5b10-4f26-80fb-15939fa7c0c9"
      },
      "execution_count": 49,
      "outputs": [
        {
          "output_type": "execute_result",
          "data": {
            "text/plain": [
              "MixedInputModel(\n",
              "  (embs): ModuleList(\n",
              "    (0): Embedding(8, 4)\n",
              "    (1): Embedding(13, 7)\n",
              "    (2): Embedding(54, 27)\n",
              "    (3): Embedding(32, 16)\n",
              "    (4): Embedding(8, 4)\n",
              "    (5): Embedding(367, 50)\n",
              "    (6): Embedding(25, 13)\n",
              "    (7): Embedding(61, 31)\n",
              "    (8): Embedding(61, 31)\n",
              "    (9): Embedding(3, 2)\n",
              "    (10): Embedding(3, 2)\n",
              "    (11): Embedding(3, 2)\n",
              "    (12): Embedding(3, 2)\n",
              "    (13): Embedding(3, 2)\n",
              "    (14): Embedding(3, 2)\n",
              "  )\n",
              "  (lins): ModuleList(\n",
              "    (0): Linear(in_features=204, out_features=1000, bias=True)\n",
              "    (1): Linear(in_features=1000, out_features=500, bias=True)\n",
              "    (2): Linear(in_features=500, out_features=250, bias=True)\n",
              "  )\n",
              "  (bns): ModuleList(\n",
              "    (0): BatchNorm1d(1000, eps=1e-05, momentum=0.1, affine=True, track_running_stats=True)\n",
              "    (1): BatchNorm1d(500, eps=1e-05, momentum=0.1, affine=True, track_running_stats=True)\n",
              "    (2): BatchNorm1d(250, eps=1e-05, momentum=0.1, affine=True, track_running_stats=True)\n",
              "  )\n",
              "  (outp): Linear(in_features=250, out_features=1, bias=True)\n",
              "  (emb_drop): Dropout(p=0.04, inplace=False)\n",
              "  (drops): ModuleList(\n",
              "    (0): Dropout(p=0.001, inplace=False)\n",
              "    (1): Dropout(p=0.01, inplace=False)\n",
              "    (2): Dropout(p=0.01, inplace=False)\n",
              "  )\n",
              "  (bn): BatchNorm1d(9, eps=1e-05, momentum=0.1, affine=True, track_running_stats=True)\n",
              ")"
            ]
          },
          "metadata": {},
          "execution_count": 49
        }
      ]
    },
    {
      "cell_type": "code",
      "source": [
        ""
      ],
      "metadata": {
        "id": "7pAneZo1V34y"
      },
      "execution_count": null,
      "outputs": []
    },
    {
      "cell_type": "code",
      "source": [
        ""
      ],
      "metadata": {
        "id": "CE_WWWjmV31A"
      },
      "execution_count": null,
      "outputs": []
    },
    {
      "cell_type": "code",
      "source": [
        ""
      ],
      "metadata": {
        "id": "R5K9P3nBV3xd"
      },
      "execution_count": null,
      "outputs": []
    },
    {
      "cell_type": "code",
      "source": [
        ""
      ],
      "metadata": {
        "id": "L0oImLauV3uK"
      },
      "execution_count": null,
      "outputs": []
    },
    {
      "cell_type": "code",
      "source": [
        ""
      ],
      "metadata": {
        "id": "R4XzbZgmV3qy"
      },
      "execution_count": null,
      "outputs": []
    },
    {
      "cell_type": "code",
      "source": [
        ""
      ],
      "metadata": {
        "id": "-t_YVShTV3ne"
      },
      "execution_count": null,
      "outputs": []
    },
    {
      "cell_type": "code",
      "source": [
        ""
      ],
      "metadata": {
        "id": "_3jeEuM0V3kQ"
      },
      "execution_count": null,
      "outputs": []
    },
    {
      "cell_type": "code",
      "source": [
        ""
      ],
      "metadata": {
        "id": "9TTDpLuqV3g5"
      },
      "execution_count": null,
      "outputs": []
    },
    {
      "cell_type": "code",
      "source": [
        ""
      ],
      "metadata": {
        "id": "I7Y7eQ4bV3dq"
      },
      "execution_count": null,
      "outputs": []
    },
    {
      "cell_type": "code",
      "source": [
        ""
      ],
      "metadata": {
        "id": "FsWeqQDNV3aV"
      },
      "execution_count": null,
      "outputs": []
    },
    {
      "cell_type": "code",
      "source": [
        ""
      ],
      "metadata": {
        "id": "thnDyiW-V3W_"
      },
      "execution_count": null,
      "outputs": []
    },
    {
      "cell_type": "code",
      "source": [
        ""
      ],
      "metadata": {
        "id": "uqNEIROjV3Tt"
      },
      "execution_count": null,
      "outputs": []
    },
    {
      "cell_type": "code",
      "source": [
        ""
      ],
      "metadata": {
        "id": "vkSx838GV3Qc"
      },
      "execution_count": null,
      "outputs": []
    },
    {
      "cell_type": "code",
      "source": [
        ""
      ],
      "metadata": {
        "id": "VpRDzBJzV3NR"
      },
      "execution_count": null,
      "outputs": []
    },
    {
      "cell_type": "code",
      "source": [
        ""
      ],
      "metadata": {
        "id": "u-QEM0UJV3KH"
      },
      "execution_count": null,
      "outputs": []
    },
    {
      "cell_type": "code",
      "source": [
        ""
      ],
      "metadata": {
        "id": "CyVfoH3XV3Gj"
      },
      "execution_count": null,
      "outputs": []
    },
    {
      "cell_type": "code",
      "source": [
        ""
      ],
      "metadata": {
        "id": "DV7f13B1V3Dd"
      },
      "execution_count": null,
      "outputs": []
    },
    {
      "cell_type": "code",
      "source": [
        ""
      ],
      "metadata": {
        "id": "iTe7DOg9V3AY"
      },
      "execution_count": null,
      "outputs": []
    },
    {
      "cell_type": "code",
      "source": [
        ""
      ],
      "metadata": {
        "id": "gQ94UeEqV29U"
      },
      "execution_count": null,
      "outputs": []
    },
    {
      "cell_type": "code",
      "source": [
        ""
      ],
      "metadata": {
        "id": "mMriYbhCV26A"
      },
      "execution_count": null,
      "outputs": []
    },
    {
      "cell_type": "code",
      "source": [
        ""
      ],
      "metadata": {
        "id": "4l7wvlGrV22N"
      },
      "execution_count": null,
      "outputs": []
    },
    {
      "cell_type": "code",
      "source": [
        ""
      ],
      "metadata": {
        "id": "JKZZHF1UV2zG"
      },
      "execution_count": null,
      "outputs": []
    },
    {
      "cell_type": "code",
      "source": [
        ""
      ],
      "metadata": {
        "id": "8UJY_-AJV2wF"
      },
      "execution_count": null,
      "outputs": []
    },
    {
      "cell_type": "code",
      "source": [
        ""
      ],
      "metadata": {
        "id": "VEeolmzGV2tA"
      },
      "execution_count": null,
      "outputs": []
    },
    {
      "cell_type": "code",
      "source": [
        ""
      ],
      "metadata": {
        "id": "MCf5wuIqV2p9"
      },
      "execution_count": null,
      "outputs": []
    },
    {
      "cell_type": "code",
      "source": [
        ""
      ],
      "metadata": {
        "id": "mvvQtqMUV2m7"
      },
      "execution_count": null,
      "outputs": []
    },
    {
      "cell_type": "code",
      "source": [
        ""
      ],
      "metadata": {
        "id": "nzJKWsFcV2j7"
      },
      "execution_count": null,
      "outputs": []
    },
    {
      "cell_type": "code",
      "source": [
        ""
      ],
      "metadata": {
        "id": "xeSbdmrIV2g1"
      },
      "execution_count": null,
      "outputs": []
    },
    {
      "cell_type": "code",
      "source": [
        ""
      ],
      "metadata": {
        "id": "_E08tfS-V2dz"
      },
      "execution_count": null,
      "outputs": []
    },
    {
      "cell_type": "code",
      "source": [
        ""
      ],
      "metadata": {
        "id": "bNLoTDWHV2aw"
      },
      "execution_count": null,
      "outputs": []
    },
    {
      "cell_type": "code",
      "source": [
        ""
      ],
      "metadata": {
        "id": "TAn8ASSoV2X6"
      },
      "execution_count": null,
      "outputs": []
    },
    {
      "cell_type": "code",
      "source": [
        ""
      ],
      "metadata": {
        "id": "nFL1MynZV2U-"
      },
      "execution_count": null,
      "outputs": []
    },
    {
      "cell_type": "code",
      "source": [
        ""
      ],
      "metadata": {
        "id": "6m516jhVV2SA"
      },
      "execution_count": null,
      "outputs": []
    },
    {
      "cell_type": "code",
      "source": [
        ""
      ],
      "metadata": {
        "id": "e98f_mAEV2PC"
      },
      "execution_count": null,
      "outputs": []
    },
    {
      "cell_type": "code",
      "source": [
        ""
      ],
      "metadata": {
        "id": "6RPiGePqV2L-"
      },
      "execution_count": null,
      "outputs": []
    },
    {
      "cell_type": "code",
      "source": [
        ""
      ],
      "metadata": {
        "id": "EFtl3BB0V2I6"
      },
      "execution_count": null,
      "outputs": []
    },
    {
      "cell_type": "code",
      "source": [
        ""
      ],
      "metadata": {
        "id": "INpTJRRhV2G9"
      },
      "execution_count": null,
      "outputs": []
    },
    {
      "cell_type": "code",
      "source": [
        ""
      ],
      "metadata": {
        "id": "SwwoYJ7nV2EV"
      },
      "execution_count": null,
      "outputs": []
    },
    {
      "cell_type": "code",
      "source": [
        ""
      ],
      "metadata": {
        "id": "Hv0pN5kXV2BK"
      },
      "execution_count": null,
      "outputs": []
    },
    {
      "cell_type": "code",
      "source": [
        ""
      ],
      "metadata": {
        "id": "q4HC436lV1-m"
      },
      "execution_count": null,
      "outputs": []
    },
    {
      "cell_type": "code",
      "source": [
        ""
      ],
      "metadata": {
        "id": "qWWWp5HZV176"
      },
      "execution_count": null,
      "outputs": []
    },
    {
      "cell_type": "code",
      "source": [
        ""
      ],
      "metadata": {
        "id": "UBV0Nm_UV15m"
      },
      "execution_count": null,
      "outputs": []
    },
    {
      "cell_type": "code",
      "source": [
        ""
      ],
      "metadata": {
        "id": "5iVOtGcDV13Y"
      },
      "execution_count": null,
      "outputs": []
    }
  ]
}